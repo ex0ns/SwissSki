{
 "cells": [
  {
   "cell_type": "markdown",
   "metadata": {},
   "source": [
    "### Parse Swiss data"
   ]
  },
  {
   "cell_type": "code",
   "execution_count": 169,
   "metadata": {},
   "outputs": [
    {
     "data": {
      "text/plain": [
       "'<partial-response id=\"j_id1\"><error><error-name>class javax.faces.application.ViewExpiredException</error-name><error-message><![CDATA[viewId:/index.jsf - Ansicht /index.jsf konnte nicht wiederhergestellt werden.]]></error-message></error></partial-response>'"
      ]
     },
     "execution_count": 169,
     "metadata": {},
     "output_type": "execute_result"
    }
   ],
   "source": [
    "import difflib\n",
    "import requests\n",
    "import pandas\n",
    "from bs4 import BeautifulSoup\n",
    "\n",
    "cookies = {\n",
    "    'JSESSIONID': '4E97C0E435F950E02112A7ADA2171F29.wispo2worker',\n",
    "}\n",
    "\n",
    "data = [\n",
    "  ('formular_set', 'formular_set'),\n",
    "  ('autoScroll', ''),\n",
    "  ('hiddenActivetabId', '3'),\n",
    "  ('sort_by', 'LOCATION_ASC'),\n",
    "  ('wispo_area_search_string', ''),\n",
    "  ('wispo_area_search_key', ''),\n",
    "  ('wispo_area_restore_key', ''),\n",
    "  ('radius_selector', '10'),\n",
    "  ('check02', 'true'),\n",
    "  ('search_string', 'Saisir un mot-cl\\xE9'),\n",
    "  ('javax.faces.ViewState', '6281140167725445556:-1337640028376822279'),\n",
    "  ('javax.faces.source', 'moreResult'),\n",
    "  ('javax.faces.partial.event', 'click'),\n",
    "  ('javax.faces.partial.execute', 'moreResult moreResult'),\n",
    "  ('javax.faces.partial.render', 'main'),\n",
    "  ('javax.faces.behavior.event', 'action'),\n",
    "  ('javax.faces.partial.ajax', 'true'),\n",
    "]\n",
    "\n",
    "r = requests.post('https://snow.myswitzerland.com/index.jsf', cookies=cookies, data=data)\n",
    "data = r.text"
   ]
  },
  {
   "cell_type": "code",
   "execution_count": 161,
   "metadata": {},
   "outputs": [],
   "source": [
    "soup = BeautifulSoup(data, \"html5lib\")"
   ]
  },
  {
   "cell_type": "code",
   "execution_count": 162,
   "metadata": {},
   "outputs": [
    {
     "ename": "AttributeError",
     "evalue": "'NoneType' object has no attribute 'find_all'",
     "output_type": "error",
     "traceback": [
      "\u001b[0;31m---------------------------------------------------------------------------\u001b[0m",
      "\u001b[0;31mAttributeError\u001b[0m                            Traceback (most recent call last)",
      "\u001b[0;32m<ipython-input-162-153d2a148074>\u001b[0m in \u001b[0;36m<module>\u001b[0;34m()\u001b[0m\n\u001b[1;32m      1\u001b[0m \u001b[0mtable\u001b[0m \u001b[0;34m=\u001b[0m \u001b[0msoup\u001b[0m\u001b[0;34m.\u001b[0m\u001b[0mfind\u001b[0m\u001b[0;34m(\u001b[0m\u001b[0;34m'table'\u001b[0m\u001b[0;34m,\u001b[0m \u001b[0;34m{\u001b[0m \u001b[0;34m\"class\"\u001b[0m \u001b[0;34m:\u001b[0m \u001b[0;34m\"sportsinfo\"\u001b[0m \u001b[0;34m}\u001b[0m\u001b[0;34m)\u001b[0m\u001b[0;34m\u001b[0m\u001b[0m\n\u001b[0;32m----> 2\u001b[0;31m \u001b[0mstations\u001b[0m \u001b[0;34m=\u001b[0m \u001b[0mtable\u001b[0m\u001b[0;34m.\u001b[0m\u001b[0mfind_all\u001b[0m\u001b[0;34m(\u001b[0m\u001b[0;34m'tr'\u001b[0m\u001b[0;34m)\u001b[0m\u001b[0;34m\u001b[0m\u001b[0m\n\u001b[0m",
      "\u001b[0;31mAttributeError\u001b[0m: 'NoneType' object has no attribute 'find_all'"
     ]
    }
   ],
   "source": [
    "table = soup.find('table', { \"class\" : \"sportsinfo\" })\n",
    "stations = table.find_all('tr')"
   ]
  },
  {
   "cell_type": "code",
   "execution_count": 115,
   "metadata": {},
   "outputs": [],
   "source": [
    "class Station:\n",
    "    def __init__(self, name, temp, snow_slopes, snow_station):\n",
    "        self.name = name\n",
    "        self.temp = temp\n",
    "        self.snow_slopes = snow_slopes\n",
    "        self.snow_station = snow_station\n",
    "        \n",
    "    def __str__(self):\n",
    "        return self.name + \" \" + self.temp + \" \" + self.snow_slopes + \" \" + self.snow_station\n",
    "    \n",
    "def extract_station_data(station):\n",
    "    name = station.find('td', {'class': 'location'}).find('h3').get_text().strip()\n",
    "    temp = station.find('td', {'class': 'weather info_set1'}).find('em').get_text().strip()\n",
    "    snow_slopes = station.find('td', {'class': 'info_set2'}).find('em').get_text().strip()\n",
    "    snow_station = station.find('td', {'class': 'info_set2'}).find('span').get_text().replace('dans la station', '').strip()\n",
    "    return Station(name, temp, snow_slopes, snow_station)\n",
    "\n",
    "stations_data = [extract_station_data(station) for station in stations]"
   ]
  },
  {
   "cell_type": "markdown",
   "metadata": {},
   "source": [
    "### Parse data from MagicPass"
   ]
  },
  {
   "cell_type": "code",
   "execution_count": 117,
   "metadata": {},
   "outputs": [],
   "source": [
    "MP_URL = \"https://www.magicpass.ch/fr/stations/\"\n",
    "\n",
    "mp_raw_data = requests.get(MP_URL).text\n",
    "soup = BeautifulSoup(mp_raw_data, 'html5lib')\n",
    "\n",
    "mp_stations = soup.find_all('div', {'class': 'station-item'})\n",
    "mp_stations = [station.find('span', {'class': 'station-name'}).get_text().strip() for station in mp_stations]"
   ]
  },
  {
   "cell_type": "markdown",
   "metadata": {},
   "source": [
    "### Match stations"
   ]
  },
  {
   "cell_type": "code",
   "execution_count": 159,
   "metadata": {},
   "outputs": [
    {
     "name": "stdout",
     "output_type": "stream",
     "text": [
      "Warning, could not match:  ['Mayens de Conthey', 'Nax – Mt-Noble', 'Tramelan']\n"
     ]
    }
   ],
   "source": [
    "matched = []\n",
    "def filter_stations(station, names):\n",
    "    if station.name in names: \n",
    "        matched.append(station.name)\n",
    "        return True\n",
    "    for name in names:\n",
    "        if name in station.name:\n",
    "            matched.append(name)\n",
    "            return True\n",
    "    matches = difflib.get_close_matches(station.name, names)\n",
    "    #print(station.name, matches)\n",
    "    result = len(matches) == 1\n",
    "    if result == True:\n",
    "        matched.append(matches[0])\n",
    "    return result\n",
    "\n",
    "def rename_station(station):\n",
    "    renames = {\n",
    "        'Les Diablerets - Glacier 3000': \"Too Expensive\",\n",
    "        'Jaunpass - Boltigen': 'Much duplicate',\n",
    "        \n",
    "        'Les Mosses-La Lécherette': 'La Lécherette',\n",
    "        'Leysin-Mosses-Lécherette': 'Les Mosses'\n",
    "    }\n",
    "    if station.name in renames:\n",
    "        station.name = renames[station.name]\n",
    "    return station\n",
    "        \n",
    "\n",
    "stations_data = [rename_station(station) for station in stations_data]\n",
    "matches = list(filter(lambda station: filter_stations(station, mp_stations), stations_data))\n",
    "unmatched = [x for x in mp_stations if x not in matched]\n",
    "\n",
    "print(\"Warning, could not match: \", unmatched)"
   ]
  },
  {
   "cell_type": "code",
   "execution_count": null,
   "metadata": {},
   "outputs": [],
   "source": []
  }
 ],
 "metadata": {
  "kernelspec": {
   "display_name": "Python 3",
   "language": "python",
   "name": "python3"
  },
  "language_info": {
   "codemirror_mode": {
    "name": "ipython",
    "version": 3
   },
   "file_extension": ".py",
   "mimetype": "text/x-python",
   "name": "python",
   "nbconvert_exporter": "python",
   "pygments_lexer": "ipython3",
   "version": "3.6.2"
  }
 },
 "nbformat": 4,
 "nbformat_minor": 2
}
